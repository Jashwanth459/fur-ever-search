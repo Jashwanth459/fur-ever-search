{
 "cells": [
  {
   "cell_type": "code",
   "execution_count": 1,
   "id": "6b00052b",
   "metadata": {},
   "outputs": [],
   "source": [
    "import re\n",
    "import requests\n",
    "import os\n",
    "from datetime import datetime\n",
    "\n",
    "from bs4 import BeautifulSoup, Comment\n",
    "from bs4.element import Tag\n",
    "\n",
    "import pandas as pd\n",
    "from tqdm import tqdm"
   ]
  },
  {
   "cell_type": "code",
   "execution_count": 2,
   "id": "c1e5065d",
   "metadata": {},
   "outputs": [],
   "source": [
    "def get_description(breed_soup):\n",
    "#     print('breed_soup', breed_soup);\n",
    "    try:\n",
    "        description = breed_soup.find(\n",
    "                'p', class_='breed-page__about__read-more__text'\n",
    "        ).get_text().strip()\n",
    "    except:\n",
    "        description = ''\n",
    "        \n",
    "#     print('description', description)\n",
    "    \n",
    "    # Removing weird characters\n",
    "    # Probably not exhaustive\n",
    "    description = description.replace(\n",
    "        '\\n', '').replace('\\u200b', '').replace('\\xa0', ' ')\n",
    "    \n",
    "#     print('description', description)\n",
    "    return description"
   ]
  },
  {
   "cell_type": "code",
   "execution_count": 3,
   "id": "707ac67c",
   "metadata": {},
   "outputs": [],
   "source": [
    "def get_temperament(breed_soup):\n",
    "    temperment_class = 'breed-page__intro__temperment'\n",
    "    try:\n",
    "        return breed_soup.find(\n",
    "            'p', class_=temperment_class\n",
    "        ).get_text().replace(' / ', ',')\n",
    "    except:\n",
    "        return ''"
   ]
  },
  {
   "cell_type": "code",
   "execution_count": 4,
   "id": "467cd8ea",
   "metadata": {},
   "outputs": [],
   "source": [
    "def general_regex(text, var, mul=1):\n",
    "    reg = re.compile('(\\d+\\.?\\d*)')\n",
    "    results = reg.findall(text)\n",
    "    numbers = [float(value) * mul for value in results]\n",
    "    if len(numbers) == 1:\n",
    "        numbers = numbers * 2\n",
    "    elif len(numbers) == 0:\n",
    "        numbers = [0, 0]\n",
    "    return {\n",
    "        'min_{}'.format(var): min(numbers),\n",
    "        'max_{}'.format(var): max(numbers)\n",
    "    }"
   ]
  },
  {
   "cell_type": "code",
   "execution_count": 5,
   "id": "6de910ff",
   "metadata": {},
   "outputs": [],
   "source": [
    "# Define scraping functions for each attribute\n",
    "def get_popularity(attribute):\n",
    "    return attribute.replace('Ranks', '').split('of')[0].strip().split(':')[1]\n",
    "\n",
    "def get_height(attribute):\n",
    "    return general_regex(attribute, 'height')\n",
    "\n",
    "def get_weight(attribute):\n",
    "    return general_regex(attribute, 'weight') \n",
    "\n",
    "def get_expectancy(attribute):\n",
    "    return general_regex(attribute, 'expectancy')\n",
    "\n",
    "def get_group(attribute):\n",
    "    return attribute.split(':')[1].strip()\n",
    "\n",
    "# Create a dictionary mapping attribute names to their respective scraping functions\n",
    "attr_function = {\n",
    "    'akc_breed_popularity': get_popularity,\n",
    "    'height': get_height,\n",
    "    'weight': get_weight,\n",
    "    'life_expectancy': get_expectancy,\n",
    "    'group': get_group\n",
    "}\n",
    "\n",
    "# Function to extract attributes from a comment\n",
    "def get_attributes_from_comment(comment):\n",
    "    attributes_data = {}\n",
    "    \n",
    "    comment_content = BeautifulSoup(comment, 'html.parser')\n",
    "    \n",
    "    data_objects = comment_content.find_all('dataobject', type='document')\n",
    "    \n",
    "    for data_object in data_objects:\n",
    "        attributes = data_object.find_all('attribute')\n",
    "        \n",
    "        for attribute in attributes:\n",
    "            name = attribute.get('name')\n",
    "            value = attribute.get_text(strip=True)\n",
    "            \n",
    "            # Check if the attribute name is in the attr_function dictionary\n",
    "            if name in attr_function:\n",
    "                scraping_function = attr_function[name]\n",
    "                if(name in ['height', 'weight', 'life_expectancy']):\n",
    "                    attr_dict = scraping_function(value)\n",
    "                    for key in attr_dict.keys():\n",
    "                        attributes_data[key] = attr_dict[key]\n",
    "                    \n",
    "                else:\n",
    "                    attributes_data[name] = scraping_function(value)\n",
    "    \n",
    "    return attributes_data"
   ]
  },
  {
   "cell_type": "code",
   "execution_count": 6,
   "id": "06b784d1",
   "metadata": {},
   "outputs": [],
   "source": [
    "breed_attributes = []\n",
    "\n",
    "def get_main_attributes(breed_soup):\n",
    "    # Find all comments in the HTML\n",
    "    comments = breed_soup.find_all(string=lambda text: isinstance(text, Comment))\n",
    "\n",
    "    # Iterate through comments\n",
    "    for comment in comments:\n",
    "        comment_content = BeautifulSoup(comment, 'html.parser')\n",
    "\n",
    "        if comment_content.find('pagemap'):\n",
    "            breed_attributes = get_attributes_from_comment(comment)\n",
    "    \n",
    "    print('breed_attributes', breed_attributes)\n",
    "    return breed_attributes"
   ]
  },
  {
   "cell_type": "code",
   "execution_count": 7,
   "id": "8de5398d",
   "metadata": {},
   "outputs": [],
   "source": [
    "def get_care_info(breed_soup):\n",
    "    titles = breed_soup.find_all(\n",
    "        'h4', class_='bar-graph__title'\n",
    "    )\n",
    "    \n",
    "    values = breed_soup.find_all(\n",
    "        'div', class_='bar-graph__section'\n",
    "    )\n",
    "    \n",
    "    categories = breed_soup.find_all(\n",
    "        'div', class_='bar-graph__text'\n",
    "    )\n",
    "    \n",
    "    care_dict = {}\n",
    "    \n",
    "    for (title, value, category) in zip (titles, values, categories):\n",
    "        t = title.get_text().lower().replace(' ', '_')\n",
    "        t = t[t.find('/') + 1:]\n",
    "        care_dict[t + '_value'] = float(\n",
    "            value['style'].split()[1].split('%')[0]\n",
    "        ) / 100\n",
    "        care_dict[t + '_category'] = category.get_text()\n",
    "        \n",
    "    print('care_dict', care_dict)\n",
    "    \n",
    "    return care_dict"
   ]
  },
  {
   "cell_type": "code",
   "execution_count": 8,
   "id": "b6b52cbb",
   "metadata": {},
   "outputs": [],
   "source": [
    "# Working\n",
    "def get_breed_characteristics(breed_soup):\n",
    "    breed_characteristics = {}\n",
    "    characteristic_classes = [tab_element.getText() for tab_element in breed_soup.find_all('li', class_='tabs__single-tab')]\n",
    "    for characteristic_class in characteristic_classes:\n",
    "        if('Traits' not in characteristic_class):\n",
    "            characteristic_class_name = f'breed-page__traits__{characteristic_class.lower().replace(\" \", \"-\")}'\n",
    "            print(characteristic_class_name)\n",
    "            characteristics_div = breed_soup.find('div', id=characteristic_class_name)\n",
    "            breed_traits = characteristics_div.find_all('div', class_='breed-trait-group__trait')\n",
    "            breed_group_characteristics = {}\n",
    "            for breed_trait in breed_traits:\n",
    "                trait = breed_trait.find('h4', class_='accordion__header__text').getText()\n",
    "                trait_score = len(breed_trait.find_all('div', class_='breed-trait-score__score-unit breed-trait-score__score-unit--filled'))\n",
    "                breed_group_characteristics[trait] = trait_score\n",
    "                breed_characteristics[trait] = trait_score\n",
    "    print(breed_characteristics)\n",
    "    return breed_characteristics"
   ]
  },
  {
   "cell_type": "code",
   "execution_count": 9,
   "id": "d9356f8a",
   "metadata": {},
   "outputs": [],
   "source": [
    "from selenium import webdriver\n",
    "from selenium.webdriver.common.by import By\n",
    "from selenium.webdriver.support.ui import WebDriverWait\n",
    "from selenium.webdriver.support import expected_conditions as EC\n",
    "from bs4 import BeautifulSoup\n",
    "\n",
    "class Breed:\n",
    "    def __init__(self, breed_url, breed_name):\n",
    "        self.url = breed_url\n",
    "        self.name = breed_name\n",
    "        \n",
    "        # Set up a headless Chrome browser\n",
    "        options = webdriver.ChromeOptions()\n",
    "        options.add_argument('--headless')  # Run in headless mode (no GUI)\n",
    "        driver = webdriver.Chrome(options=options)\n",
    "\n",
    "        # Load the web page\n",
    "        driver.get(breed_url)\n",
    "\n",
    "        # Get the page source after content has loaded\n",
    "        page_source = driver.page_source\n",
    "\n",
    "        # Create a BeautifulSoup object from the page source\n",
    "        breed_soup = BeautifulSoup(page_source, 'html.parser')\n",
    "\n",
    "        # Scrape content as needed\n",
    "        self.breed_info = {}\n",
    "        self.breed_info['breed'] = self.name\n",
    "        self.breed_info['description'] = get_description(breed_soup)\n",
    "        self.breed_info['temperament'] = get_temperament(breed_soup)\n",
    "        self.breed_info.update(get_main_attributes(breed_soup))\n",
    "        self.breed_info.update(get_care_info(breed_soup))\n",
    "        self.breed_info.update(get_breed_characteristics(breed_soup))\n",
    "\n",
    "        # Close the browser\n",
    "        driver.quit()\n",
    "\n",
    "    def get_breed_info(self):\n",
    "        return self.breed_info\n"
   ]
  },
  {
   "cell_type": "code",
   "execution_count": 10,
   "id": "74fd5c08",
   "metadata": {},
   "outputs": [],
   "source": [
    "import requests\n",
    "from bs4 import BeautifulSoup\n",
    "from bs4 import Tag\n",
    "from tqdm import tqdm  # Import tqdm for the progress bar\n",
    "\n",
    "def get_data():\n",
    "    page = requests.get('https://www.akc.org/dog-breeds/')\n",
    "    soup = BeautifulSoup(page.content, 'html.parser')\n",
    "    \n",
    "    breed_select = soup.find('select', id='breed-search')\n",
    "\n",
    "    breeds = []\n",
    "    \n",
    "    for tag in breed_select.children:\n",
    "        if isinstance(tag, Tag):\n",
    "            if 'value' in tag.attrs and tag['value']:\n",
    "                breeds.append(tag)\n",
    "\n",
    "    print(len(breeds))\n",
    "                \n",
    "    breed_dict = {}\n",
    "    \n",
    "    # Use tqdm to create a progress bar\n",
    "    for breed in tqdm(breeds[0:100],desc='scraping Breeds'):\n",
    "        breed_name = breed.get_text()\n",
    "        breed_url = breed['value']\n",
    "        breed_info = Breed(breed_url, breed_name).get_breed_info()\n",
    "        breed_dict[breed_name] = breed_info\n",
    "    \n",
    "#     print('breed_dict', breed_dict)\n",
    "    \n",
    "    return breed_dict\n",
    "\n",
    "# Define the Breed class and its methods here if not already defined\n",
    "\n",
    "# Call get_data() to start the scraping process"
   ]
  },
  {
   "cell_type": "code",
   "execution_count": null,
   "id": "00757031",
   "metadata": {},
   "outputs": [
    {
     "name": "stdout",
     "output_type": "stream",
     "text": [
      "288\n"
     ]
    },
    {
     "name": "stderr",
     "output_type": "stream",
     "text": [
      "\r",
      "scraping Breeds:   0%|                                                                         | 0/100 [00:00<?, ?it/s]"
     ]
    },
    {
     "name": "stdout",
     "output_type": "stream",
     "text": [
      "breed_attributes {'akc_breed_popularity': '  148', 'min_height': 9.0, 'max_height': 11.5, 'min_weight': 7.0, 'max_weight': 10.0, 'min_expectancy': 12.0, 'max_expectancy': 15.0, 'group': 'Toy Group'}\n",
      "care_dict {}\n",
      "breed-page__traits__family-life\n",
      "breed-page__traits__physical\n",
      "breed-page__traits__social\n",
      "breed-page__traits__personality\n",
      "{'Affectionate With Family': 3, 'Good With Young Children': 3, 'Good With Other Dogs': 3, 'Shedding Level': 3, 'Coat Grooming Frequency': 3, 'Drooling Level': 1, 'Coat Type': 0, 'Coat Length': 0, 'Openness To Strangers': 5, 'Playfulness Level': 3, 'Watchdog/Protective Nature': 3, 'Adaptability Level': 4, 'Trainability Level': 3, 'Energy Level': 3, 'Barking Level': 3, 'Mental Stimulation Needs': 3}\n"
     ]
    },
    {
     "name": "stderr",
     "output_type": "stream",
     "text": [
      "\r",
      "scraping Breeds:   1%|▋                                                                | 1/100 [00:14<23:37, 14.32s/it]"
     ]
    },
    {
     "name": "stdout",
     "output_type": "stream",
     "text": [
      "breed_attributes {'akc_breed_popularity': '  117', 'min_height': 25.0, 'max_height': 27.0, 'min_weight': 50.0, 'max_weight': 60.0, 'min_expectancy': 12.0, 'max_expectancy': 18.0, 'group': 'Hound Group'}\n",
      "care_dict {}\n",
      "breed-page__traits__family-life\n",
      "breed-page__traits__physical\n",
      "breed-page__traits__social\n",
      "breed-page__traits__personality\n",
      "{'Affectionate With Family': 3, 'Good With Young Children': 3, 'Good With Other Dogs': 3, 'Shedding Level': 1, 'Coat Grooming Frequency': 4, 'Drooling Level': 1, 'Coat Type': 0, 'Coat Length': 0, 'Openness To Strangers': 3, 'Playfulness Level': 3, 'Watchdog/Protective Nature': 3, 'Adaptability Level': 3, 'Trainability Level': 1, 'Energy Level': 4, 'Barking Level': 3, 'Mental Stimulation Needs': 3}\n"
     ]
    },
    {
     "name": "stderr",
     "output_type": "stream",
     "text": [
      "\r",
      "scraping Breeds:   2%|█▎                                                               | 2/100 [00:28<23:42, 14.51s/it]"
     ]
    },
    {
     "name": "stdout",
     "output_type": "stream",
     "text": [
      "breed_attributes {'akc_breed_popularity': '  65', 'min_height': 23.0, 'max_height': 23.0, 'min_weight': 50.0, 'max_weight': 70.0, 'min_expectancy': 11.0, 'max_expectancy': 14.0, 'group': 'Terrier Group'}\n",
      "care_dict {}\n",
      "breed-page__traits__family-life\n",
      "breed-page__traits__physical\n",
      "breed-page__traits__social\n",
      "breed-page__traits__personality\n",
      "{'Affectionate With Family': 3, 'Good With Young Children': 3, 'Good With Other Dogs': 3, 'Shedding Level': 1, 'Coat Grooming Frequency': 3, 'Drooling Level': 1, 'Coat Type': 0, 'Coat Length': 0, 'Openness To Strangers': 3, 'Playfulness Level': 3, 'Watchdog/Protective Nature': 5, 'Adaptability Level': 3, 'Trainability Level': 3, 'Energy Level': 3, 'Barking Level': 3, 'Mental Stimulation Needs': 3}\n"
     ]
    },
    {
     "name": "stderr",
     "output_type": "stream",
     "text": [
      "\r",
      "scraping Breeds:   3%|█▉                                                               | 3/100 [00:43<23:20, 14.44s/it]"
     ]
    },
    {
     "name": "stdout",
     "output_type": "stream",
     "text": [
      "breed_attributes {'akc_breed_popularity': '  55', 'min_height': 24.0, 'max_height': 28.0, 'min_weight': 70.0, 'max_weight': 130.0, 'min_expectancy': 10.0, 'max_expectancy': 14.0, 'group': 'Working Group'}\n",
      "care_dict {}\n",
      "breed-page__traits__family-life\n",
      "breed-page__traits__physical\n",
      "breed-page__traits__social\n",
      "breed-page__traits__personality\n",
      "{'Affectionate With Family': 3, 'Good With Young Children': 3, 'Good With Other Dogs': 1, 'Shedding Level': 3, 'Coat Grooming Frequency': 3, 'Drooling Level': 1, 'Coat Type': 0, 'Coat Length': 0, 'Openness To Strangers': 2, 'Playfulness Level': 3, 'Watchdog/Protective Nature': 5, 'Adaptability Level': 3, 'Trainability Level': 3, 'Energy Level': 4, 'Barking Level': 2, 'Mental Stimulation Needs': 3}\n"
     ]
    },
    {
     "name": "stderr",
     "output_type": "stream",
     "text": [
      "\r",
      "scraping Breeds:   4%|██▌                                                              | 4/100 [00:59<23:54, 14.94s/it]"
     ]
    },
    {
     "name": "stdout",
     "output_type": "stream",
     "text": [
      "breed_attributes {'akc_breed_popularity': '', 'min_height': 12.0, 'max_height': 17.0, 'min_weight': 6.0, 'max_weight': 25.0, 'min_expectancy': 13.0, 'max_expectancy': 16.0, 'group': 'Foundation Stock Service'}\n",
      "care_dict {}\n",
      "breed-page__traits__family-life\n",
      "breed-page__traits__physical\n",
      "breed-page__traits__social\n",
      "breed-page__traits__personality\n",
      "{'Affectionate With Family': 3, 'Good With Young Children': 3, 'Good With Other Dogs': 5, 'Shedding Level': 3, 'Coat Grooming Frequency': 3, 'Drooling Level': 1, 'Coat Type': 0, 'Coat Length': 0, 'Openness To Strangers': 1, 'Playfulness Level': 3, 'Watchdog/Protective Nature': 3, 'Adaptability Level': 3, 'Trainability Level': 3, 'Energy Level': 3, 'Barking Level': 3, 'Mental Stimulation Needs': 3}\n"
     ]
    },
    {
     "name": "stderr",
     "output_type": "stream",
     "text": [
      "\r",
      "scraping Breeds:   5%|███▎                                                             | 5/100 [01:12<23:00, 14.54s/it]"
     ]
    },
    {
     "name": "stdout",
     "output_type": "stream",
     "text": [
      "breed_attributes {'akc_breed_popularity': '  67', 'min_height': 23.0, 'max_height': 25.0, 'min_weight': 75.0, 'max_weight': 85.0, 'min_expectancy': 10.0, 'max_expectancy': 14.0, 'group': 'Working Group'}\n",
      "care_dict {}\n",
      "breed-page__traits__family-life\n",
      "breed-page__traits__physical\n",
      "breed-page__traits__social\n",
      "breed-page__traits__personality\n",
      "{'Affectionate With Family': 3, 'Good With Young Children': 3, 'Good With Other Dogs': 3, 'Shedding Level': 3, 'Coat Grooming Frequency': 3, 'Drooling Level': 1, 'Coat Type': 0, 'Coat Length': 0, 'Openness To Strangers': 3, 'Playfulness Level': 3, 'Watchdog/Protective Nature': 4, 'Adaptability Level': 3, 'Trainability Level': 5, 'Energy Level': 4, 'Barking Level': 3, 'Mental Stimulation Needs': 3}\n"
     ]
    },
    {
     "name": "stderr",
     "output_type": "stream",
     "text": [
      "\r",
      "scraping Breeds:   6%|███▉                                                             | 6/100 [01:27<22:38, 14.45s/it]"
     ]
    },
    {
     "name": "stdout",
     "output_type": "stream",
     "text": [
      "breed_attributes {'akc_breed_popularity': '', 'min_height': 20.0, 'max_height': 25.0, 'min_weight': 60.0, 'max_weight': 100.0, 'min_expectancy': 10.0, 'max_expectancy': 12.0, 'group': 'Foundation Stock Service'}\n",
      "care_dict {}\n",
      "breed-page__traits__family-life\n",
      "breed-page__traits__physical\n",
      "breed-page__traits__social\n",
      "breed-page__traits__personality\n",
      "{'Affectionate With Family': 0, 'Good With Young Children': 3, 'Good With Other Dogs': 3, 'Shedding Level': 2, 'Coat Grooming Frequency': 0, 'Drooling Level': 0, 'Coat Type': 0, 'Coat Length': 0, 'Openness To Strangers': 0, 'Playfulness Level': 0, 'Watchdog/Protective Nature': 0, 'Adaptability Level': 0, 'Trainability Level': 4, 'Energy Level': 0, 'Barking Level': 1, 'Mental Stimulation Needs': 0}\n"
     ]
    },
    {
     "name": "stderr",
     "output_type": "stream",
     "text": [
      "\r",
      "scraping Breeds:   7%|████▌                                                            | 7/100 [01:40<21:47, 14.05s/it]"
     ]
    },
    {
     "name": "stdout",
     "output_type": "stream",
     "text": [
      "breed_attributes {'akc_breed_popularity': '  182', 'min_height': 23.0, 'max_height': 26.0, 'min_weight': 45.0, 'max_weight': 65.0, 'min_expectancy': 11.0, 'max_expectancy': 12.0, 'group': 'Hound Group'}\n",
      "care_dict {}\n",
      "breed-page__traits__family-life\n",
      "breed-page__traits__physical\n",
      "breed-page__traits__social\n",
      "breed-page__traits__personality\n",
      "{'Affectionate With Family': 3, 'Good With Young Children': 3, 'Good With Other Dogs': 5, 'Shedding Level': 2, 'Coat Grooming Frequency': 1, 'Drooling Level': 1, 'Coat Type': 0, 'Coat Length': 0, 'Openness To Strangers': 3, 'Playfulness Level': 3, 'Watchdog/Protective Nature': 3, 'Adaptability Level': 3, 'Trainability Level': 3, 'Energy Level': 4, 'Barking Level': 4, 'Mental Stimulation Needs': 3}\n"
     ]
    },
    {
     "name": "stderr",
     "output_type": "stream",
     "text": [
      "\r",
      "scraping Breeds:   8%|█████▏                                                           | 8/100 [01:54<21:35, 14.08s/it]"
     ]
    },
    {
     "name": "stdout",
     "output_type": "stream",
     "text": [
      "breed_attributes {'akc_breed_popularity': '  123', 'min_height': 9.0, 'max_height': 19.0, 'min_weight': 6.0, 'max_weight': 35.0, 'min_expectancy': 13.0, 'max_expectancy': 15.0, 'group': 'Non-Sporting Group'}\n",
      "care_dict {}\n",
      "breed-page__traits__family-life\n",
      "breed-page__traits__physical\n",
      "breed-page__traits__social\n",
      "breed-page__traits__personality\n",
      "{'Affectionate With Family': 5, 'Good With Young Children': 5, 'Good With Other Dogs': 3, 'Shedding Level': 3, 'Coat Grooming Frequency': 3, 'Drooling Level': 1, 'Coat Type': 0, 'Coat Length': 0, 'Openness To Strangers': 5, 'Playfulness Level': 3, 'Watchdog/Protective Nature': 3, 'Adaptability Level': 4, 'Trainability Level': 4, 'Energy Level': 4, 'Barking Level': 3, 'Mental Stimulation Needs': 3}\n"
     ]
    },
    {
     "name": "stderr",
     "output_type": "stream",
     "text": [
      "\r",
      "scraping Breeds:   9%|█████▊                                                           | 9/100 [02:12<23:17, 15.36s/it]"
     ]
    },
    {
     "name": "stdout",
     "output_type": "stream",
     "text": [
      "breed_attributes {'akc_breed_popularity': '  196', 'min_height': 21.0, 'max_height': 25.0, 'min_weight': 60.0, 'max_weight': 70.0, 'min_expectancy': 11.0, 'max_expectancy': 13.0, 'group': 'Hound Group'}\n",
      "care_dict {}\n",
      "breed-page__traits__family-life\n",
      "breed-page__traits__physical\n",
      "breed-page__traits__social\n",
      "breed-page__traits__personality\n",
      "{'Affectionate With Family': 3, 'Good With Young Children': 5, 'Good With Other Dogs': 5, 'Shedding Level': 3, 'Coat Grooming Frequency': 1, 'Drooling Level': 1, 'Coat Type': 0, 'Coat Length': 0, 'Openness To Strangers': 3, 'Playfulness Level': 3, 'Watchdog/Protective Nature': 3, 'Adaptability Level': 3, 'Trainability Level': 3, 'Energy Level': 4, 'Barking Level': 5, 'Mental Stimulation Needs': 3}\n"
     ]
    },
    {
     "name": "stderr",
     "output_type": "stream",
     "text": [
      "\r",
      "scraping Breeds:  10%|██████▍                                                         | 10/100 [02:26<22:29, 14.99s/it]"
     ]
    },
    {
     "name": "stdout",
     "output_type": "stream",
     "text": [
      "breed_attributes {'akc_breed_popularity': '  120', 'min_height': 12.0, 'max_height': 16.0, 'min_weight': 12.0, 'max_weight': 16.0, 'min_expectancy': 14.0, 'max_expectancy': 16.0, 'group': 'Terrier Group'}\n",
      "care_dict {}\n",
      "breed-page__traits__family-life\n",
      "breed-page__traits__physical\n",
      "breed-page__traits__social\n",
      "breed-page__traits__personality\n",
      "{'Affectionate With Family': 5, 'Good With Young Children': 5, 'Good With Other Dogs': 3, 'Shedding Level': 1, 'Coat Grooming Frequency': 1, 'Drooling Level': 1, 'Coat Type': 0, 'Coat Length': 0, 'Openness To Strangers': 3, 'Playfulness Level': 3, 'Watchdog/Protective Nature': 3, 'Adaptability Level': 5, 'Trainability Level': 5, 'Energy Level': 3, 'Barking Level': 3, 'Mental Stimulation Needs': 3}\n"
     ]
    },
    {
     "name": "stderr",
     "output_type": "stream",
     "text": [
      "\r",
      "scraping Breeds:  11%|███████                                                         | 11/100 [02:43<22:57, 15.47s/it]"
     ]
    },
    {
     "name": "stdout",
     "output_type": "stream",
     "text": [
      "breed_attributes {'akc_breed_popularity': '', 'min_height': 21.0, 'max_height': 27.0, 'min_weight': 35.0, 'max_weight': 75.0, 'min_expectancy': 12.0, 'max_expectancy': 15.0, 'group': 'Foundation Stock Service'}\n",
      "care_dict {}\n",
      "breed-page__traits__family-life\n",
      "breed-page__traits__physical\n",
      "breed-page__traits__social\n",
      "breed-page__traits__personality\n",
      "{'Affectionate With Family': 3, 'Good With Young Children': 5, 'Good With Other Dogs': 5, 'Shedding Level': 3, 'Coat Grooming Frequency': 1, 'Drooling Level': 1, 'Coat Type': 0, 'Coat Length': 0, 'Openness To Strangers': 1, 'Playfulness Level': 3, 'Watchdog/Protective Nature': 5, 'Adaptability Level': 5, 'Trainability Level': 3, 'Energy Level': 4, 'Barking Level': 5, 'Mental Stimulation Needs': 5}\n"
     ]
    },
    {
     "name": "stderr",
     "output_type": "stream",
     "text": [
      "\r",
      "scraping Breeds:  12%|███████▋                                                        | 12/100 [02:57<21:53, 14.93s/it]"
     ]
    },
    {
     "name": "stdout",
     "output_type": "stream",
     "text": [
      "breed_attributes {'akc_breed_popularity': '  87', 'min_height': 17.0, 'max_height': 19.0, 'min_weight': 40.0, 'max_weight': 70.0, 'min_expectancy': 12.0, 'max_expectancy': 16.0, 'group': 'Terrier Group'}\n",
      "care_dict {}\n",
      "breed-page__traits__family-life\n",
      "breed-page__traits__physical\n",
      "breed-page__traits__social\n",
      "breed-page__traits__personality\n",
      "{'Affectionate With Family': 5, 'Good With Young Children': 3, 'Good With Other Dogs': 3, 'Shedding Level': 2, 'Coat Grooming Frequency': 1, 'Drooling Level': 1, 'Coat Type': 0, 'Coat Length': 0, 'Openness To Strangers': 4, 'Playfulness Level': 3, 'Watchdog/Protective Nature': 5, 'Adaptability Level': 3, 'Trainability Level': 3, 'Energy Level': 3, 'Barking Level': 3, 'Mental Stimulation Needs': 3}\n"
     ]
    },
    {
     "name": "stderr",
     "output_type": "stream",
     "text": [
      "\r",
      "scraping Breeds:  13%|████████▎                                                       | 13/100 [03:10<21:04, 14.54s/it]"
     ]
    },
    {
     "name": "stdout",
     "output_type": "stream",
     "text": [
      "breed_attributes {'akc_breed_popularity': '  166', 'min_height': 15.0, 'max_height': 18.0, 'min_weight': 25.0, 'max_weight': 45.0, 'min_expectancy': 10.0, 'max_expectancy': 14.0, 'group': 'Sporting Group'}\n",
      "care_dict {}\n",
      "breed-page__traits__family-life\n",
      "breed-page__traits__physical\n",
      "breed-page__traits__social\n",
      "breed-page__traits__personality\n",
      "{'Affectionate With Family': 3, 'Good With Young Children': 3, 'Good With Other Dogs': 3, 'Shedding Level': 1, 'Coat Grooming Frequency': 3, 'Drooling Level': 1, 'Coat Type': 0, 'Coat Length': 0, 'Openness To Strangers': 3, 'Playfulness Level': 3, 'Watchdog/Protective Nature': 3, 'Adaptability Level': 3, 'Trainability Level': 5, 'Energy Level': 3, 'Barking Level': 3, 'Mental Stimulation Needs': 3}\n"
     ]
    },
    {
     "name": "stderr",
     "output_type": "stream",
     "text": [
      "\r",
      "scraping Breeds:  14%|████████▌                                                    | 14/100 [11:21<3:47:01, 158.39s/it]"
     ]
    },
    {
     "name": "stdout",
     "output_type": "stream",
     "text": [
      "breed_attributes {'akc_breed_popularity': '  79', 'min_height': 27.0, 'max_height': 29.0, 'min_weight': 80.0, 'max_weight': 150.0, 'min_expectancy': 11.0, 'max_expectancy': 13.0, 'group': 'Working Group'}\n",
      "care_dict {}\n",
      "breed-page__traits__family-life\n",
      "breed-page__traits__physical\n",
      "breed-page__traits__social\n",
      "breed-page__traits__personality\n",
      "{'Affectionate With Family': 1, 'Good With Young Children': 3, 'Good With Other Dogs': 3, 'Shedding Level': 3, 'Coat Grooming Frequency': 2, 'Drooling Level': 1, 'Coat Type': 0, 'Coat Length': 0, 'Openness To Strangers': 1, 'Playfulness Level': 3, 'Watchdog/Protective Nature': 5, 'Adaptability Level': 3, 'Trainability Level': 2, 'Energy Level': 3, 'Barking Level': 3, 'Mental Stimulation Needs': 3}\n"
     ]
    },
    {
     "name": "stderr",
     "output_type": "stream",
     "text": [
      "\r",
      "scraping Breeds:  15%|█████████▏                                                   | 15/100 [11:39<2:44:32, 116.15s/it]"
     ]
    },
    {
     "name": "stdout",
     "output_type": "stream",
     "text": [
      "breed_attributes {'akc_breed_popularity': '', 'min_height': 20.0, 'max_height': 22.0, 'min_weight': 48.0, 'max_weight': 70.0, 'min_expectancy': 13.0, 'max_expectancy': 15.0, 'group': 'Foundation Stock Service'}\n",
      "care_dict {}\n",
      "breed-page__traits__family-life\n",
      "breed-page__traits__physical\n",
      "breed-page__traits__social\n",
      "breed-page__traits__personality\n",
      "{'Affectionate With Family': 5, 'Good With Young Children': 3, 'Good With Other Dogs': 5, 'Shedding Level': 3, 'Coat Grooming Frequency': 3, 'Drooling Level': 3, 'Coat Type': 0, 'Coat Length': 0, 'Openness To Strangers': 1, 'Playfulness Level': 3, 'Watchdog/Protective Nature': 5, 'Adaptability Level': 5, 'Trainability Level': 5, 'Energy Level': 5, 'Barking Level': 5, 'Mental Stimulation Needs': 5}\n"
     ]
    },
    {
     "name": "stderr",
     "output_type": "stream",
     "text": [
      "\r",
      "scraping Breeds:  16%|█████████▉                                                    | 16/100 [11:55<2:00:19, 85.95s/it]"
     ]
    },
    {
     "name": "stdout",
     "output_type": "stream",
     "text": [
      "breed_attributes {'akc_breed_popularity': '  48', 'min_height': 17.0, 'max_height': 20.0, 'min_weight': 35.0, 'max_weight': 50.0, 'min_expectancy': 12.0, 'max_expectancy': 16.0, 'group': 'Herding Group'}\n",
      "care_dict {}\n",
      "breed-page__traits__family-life\n",
      "breed-page__traits__physical\n",
      "breed-page__traits__social\n",
      "breed-page__traits__personality\n",
      "{'Affectionate With Family': 3, 'Good With Young Children': 3, 'Good With Other Dogs': 3, 'Shedding Level': 3, 'Coat Grooming Frequency': 1, 'Drooling Level': 1, 'Coat Type': 0, 'Coat Length': 0, 'Openness To Strangers': 3, 'Playfulness Level': 3, 'Watchdog/Protective Nature': 4, 'Adaptability Level': 3, 'Trainability Level': 4, 'Energy Level': 5, 'Barking Level': 1, 'Mental Stimulation Needs': 4}\n"
     ]
    },
    {
     "name": "stderr",
     "output_type": "stream",
     "text": [
      "\r",
      "scraping Breeds:  17%|██████████▌                                                   | 17/100 [12:10<1:29:28, 64.68s/it]"
     ]
    },
    {
     "name": "stdout",
     "output_type": "stream",
     "text": [
      "breed_attributes {'akc_breed_popularity': '', 'min_height': 17.0, 'max_height': 20.0, 'min_weight': 35.0, 'max_weight': 50.0, 'min_expectancy': 10.0, 'max_expectancy': 13.0, 'group': 'Foundation Stock Service'}\n",
      "care_dict {}\n",
      "breed-page__traits__family-life\n",
      "breed-page__traits__physical\n",
      "breed-page__traits__social\n",
      "breed-page__traits__personality\n",
      "{'Affectionate With Family': 3, 'Good With Young Children': 3, 'Good With Other Dogs': 3, 'Shedding Level': 3, 'Coat Grooming Frequency': 1, 'Drooling Level': 1, 'Coat Type': 0, 'Coat Length': 0, 'Openness To Strangers': 3, 'Playfulness Level': 3, 'Watchdog/Protective Nature': 4, 'Adaptability Level': 3, 'Trainability Level': 4, 'Energy Level': 5, 'Barking Level': 1, 'Mental Stimulation Needs': 4}\n"
     ]
    },
    {
     "name": "stderr",
     "output_type": "stream",
     "text": [
      "\r",
      "scraping Breeds:  18%|███████████▏                                                  | 18/100 [12:24<1:07:19, 49.27s/it]"
     ]
    },
    {
     "name": "stdout",
     "output_type": "stream",
     "text": [
      "breed_attributes {'akc_breed_popularity': '  12', 'min_height': 18.0, 'max_height': 23.0, 'min_weight': 40.0, 'max_weight': 65.0, 'min_expectancy': 12.0, 'max_expectancy': 15.0, 'group': 'Herding Group'}\n",
      "care_dict {}\n",
      "breed-page__traits__family-life\n",
      "breed-page__traits__physical\n",
      "breed-page__traits__social\n",
      "breed-page__traits__personality\n",
      "{'Affectionate With Family': 3, 'Good With Young Children': 5, 'Good With Other Dogs': 3, 'Shedding Level': 3, 'Coat Grooming Frequency': 2, 'Drooling Level': 1, 'Coat Type': 0, 'Coat Length': 0, 'Openness To Strangers': 3, 'Playfulness Level': 4, 'Watchdog/Protective Nature': 3, 'Adaptability Level': 3, 'Trainability Level': 5, 'Energy Level': 5, 'Barking Level': 3, 'Mental Stimulation Needs': 5}\n"
     ]
    },
    {
     "name": "stderr",
     "output_type": "stream",
     "text": [
      "\r",
      "scraping Breeds:  19%|████████████▏                                                   | 19/100 [12:38<52:21, 38.78s/it]"
     ]
    },
    {
     "name": "stdout",
     "output_type": "stream",
     "text": [
      "breed_attributes {'akc_breed_popularity': '', 'min_height': 17.0, 'max_height': 20.0, 'min_weight': 32.0, 'max_weight': 45.0, 'min_expectancy': 12.0, 'max_expectancy': 15.0, 'group': 'Foundation Stock Service'}\n",
      "care_dict {}\n",
      "breed-page__traits__family-life\n",
      "breed-page__traits__physical\n",
      "breed-page__traits__social\n",
      "breed-page__traits__personality\n",
      "{'Affectionate With Family': 1, 'Good With Young Children': 3, 'Good With Other Dogs': 1, 'Shedding Level': 3, 'Coat Grooming Frequency': 3, 'Drooling Level': 1, 'Coat Type': 0, 'Coat Length': 0, 'Openness To Strangers': 1, 'Playfulness Level': 3, 'Watchdog/Protective Nature': 3, 'Adaptability Level': 3, 'Trainability Level': 3, 'Energy Level': 5, 'Barking Level': 1, 'Mental Stimulation Needs': 5}\n"
     ]
    },
    {
     "name": "stderr",
     "output_type": "stream",
     "text": [
      "\r",
      "scraping Breeds:  20%|████████████▊                                                   | 20/100 [12:53<42:01, 31.52s/it]"
     ]
    },
    {
     "name": "stdout",
     "output_type": "stream",
     "text": [
      "breed_attributes {'akc_breed_popularity': '  136', 'min_height': 10.0, 'max_height': 11.0, 'min_weight': 15.0, 'max_weight': 20.0, 'min_expectancy': 11.0, 'max_expectancy': 15.0, 'group': 'Terrier Group'}\n",
      "care_dict {}\n",
      "breed-page__traits__family-life\n",
      "breed-page__traits__physical\n",
      "breed-page__traits__social\n",
      "breed-page__traits__personality\n",
      "{'Affectionate With Family': 3, 'Good With Young Children': 5, 'Good With Other Dogs': 3, 'Shedding Level': 1, 'Coat Grooming Frequency': 2, 'Drooling Level': 1, 'Coat Type': 0, 'Coat Length': 0, 'Openness To Strangers': 3, 'Playfulness Level': 4, 'Watchdog/Protective Nature': 4, 'Adaptability Level': 3, 'Trainability Level': 4, 'Energy Level': 4, 'Barking Level': 5, 'Mental Stimulation Needs': 4}\n"
     ]
    },
    {
     "name": "stderr",
     "output_type": "stream",
     "text": [
      "\r",
      "scraping Breeds:  21%|█████████████▍                                                  | 21/100 [13:06<34:25, 26.15s/it]"
     ]
    },
    {
     "name": "stdout",
     "output_type": "stream",
     "text": [
      "breed_attributes {'akc_breed_popularity': '  194', 'min_height': 23.5, 'max_height': 29.0, 'min_weight': 33.0, 'max_weight': 55.0, 'min_expectancy': 12.0, 'max_expectancy': 15.0, 'group': 'Hound Group'}\n",
      "care_dict {}\n",
      "breed-page__traits__family-life\n",
      "breed-page__traits__physical\n",
      "breed-page__traits__social\n",
      "breed-page__traits__personality\n",
      "{'Affectionate With Family': 3, 'Good With Young Children': 3, 'Good With Other Dogs': 3, 'Shedding Level': 2, 'Coat Grooming Frequency': 2, 'Drooling Level': 1, 'Coat Type': 0, 'Coat Length': 0, 'Openness To Strangers': 1, 'Playfulness Level': 3, 'Watchdog/Protective Nature': 3, 'Adaptability Level': 3, 'Trainability Level': 2, 'Energy Level': 3, 'Barking Level': 1, 'Mental Stimulation Needs': 3}\n"
     ]
    },
    {
     "name": "stderr",
     "output_type": "stream",
     "text": [
      "\r",
      "scraping Breeds:  22%|██████████████                                                  | 22/100 [13:24<30:31, 23.48s/it]"
     ]
    },
    {
     "name": "stdout",
     "output_type": "stream",
     "text": [
      "breed_attributes {'akc_breed_popularity': '', 'min_height': 1.0, 'max_height': 22.0, 'min_weight': 46.0, 'max_weight': 60.0, 'min_expectancy': 12.0, 'max_expectancy': 14.0, 'group': 'Foundation Stock Service'}\n",
      "care_dict {}\n",
      "breed-page__traits__family-life\n",
      "breed-page__traits__physical\n",
      "breed-page__traits__social\n",
      "breed-page__traits__personality\n",
      "{'Affectionate With Family': 0, 'Good With Young Children': 4, 'Good With Other Dogs': 3, 'Shedding Level': 1, 'Coat Grooming Frequency': 0, 'Drooling Level': 0, 'Coat Type': 0, 'Coat Length': 0, 'Openness To Strangers': 0, 'Playfulness Level': 0, 'Watchdog/Protective Nature': 0, 'Adaptability Level': 0, 'Trainability Level': 5, 'Energy Level': 5, 'Barking Level': 5, 'Mental Stimulation Needs': 0}\n"
     ]
    },
    {
     "name": "stderr",
     "output_type": "stream",
     "text": [
      "\r",
      "scraping Breeds:  23%|██████████████▋                                                 | 23/100 [13:42<28:03, 21.87s/it]"
     ]
    },
    {
     "name": "stdout",
     "output_type": "stream",
     "text": [
      "breed_attributes {'akc_breed_popularity': '  147', 'min_height': 19.0, 'max_height': 24.5, 'min_weight': 35.0, 'max_weight': 65.0, 'min_expectancy': 12.0, 'max_expectancy': 14.0, 'group': 'Sporting Group'}\n",
      "care_dict {}\n",
      "breed-page__traits__family-life\n",
      "breed-page__traits__physical\n",
      "breed-page__traits__social\n",
      "breed-page__traits__personality\n",
      "{'Affectionate With Family': 4, 'Good With Young Children': 3, 'Good With Other Dogs': 3, 'Shedding Level': 1, 'Coat Grooming Frequency': 5, 'Drooling Level': 1, 'Coat Type': 0, 'Coat Length': 0, 'Openness To Strangers': 3, 'Playfulness Level': 3, 'Watchdog/Protective Nature': 3, 'Adaptability Level': 3, 'Trainability Level': 4, 'Energy Level': 3, 'Barking Level': 3, 'Mental Stimulation Needs': 3}\n"
     ]
    },
    {
     "name": "stderr",
     "output_type": "stream",
     "text": [
      "\r",
      "scraping Breeds:  24%|███████████████▎                                                | 24/100 [13:56<25:02, 19.76s/it]"
     ]
    },
    {
     "name": "stdout",
     "output_type": "stream",
     "text": [
      "breed_attributes {'akc_breed_popularity': '  91', 'min_height': 16.0, 'max_height': 17.0, 'min_weight': 22.0, 'max_weight': 24.0, 'min_expectancy': 13.0, 'max_expectancy': 14.0, 'group': 'Hound Group'}\n",
      "care_dict {}\n",
      "breed-page__traits__family-life\n",
      "breed-page__traits__physical\n",
      "breed-page__traits__social\n",
      "breed-page__traits__personality\n",
      "{'Affectionate With Family': 3, 'Good With Young Children': 3, 'Good With Other Dogs': 3, 'Shedding Level': 2, 'Coat Grooming Frequency': 1, 'Drooling Level': 1, 'Coat Type': 0, 'Coat Length': 0, 'Openness To Strangers': 3, 'Playfulness Level': 3, 'Watchdog/Protective Nature': 3, 'Adaptability Level': 3, 'Trainability Level': 2, 'Energy Level': 4, 'Barking Level': 1, 'Mental Stimulation Needs': 4}\n"
     ]
    },
    {
     "name": "stderr",
     "output_type": "stream",
     "text": [
      "\r",
      "scraping Breeds:  25%|████████████████                                                | 25/100 [14:13<23:19, 18.65s/it]"
     ]
    },
    {
     "name": "stdout",
     "output_type": "stream",
     "text": [
      "breed_attributes {'akc_breed_popularity': '', 'min_height': 12.5, 'max_height': 15.5, 'min_weight': 23.0, 'max_weight': 39.0, 'min_expectancy': 13.0, 'max_expectancy': 16.0, 'group': 'Miscellaneous Class'}\n",
      "care_dict {}\n",
      "breed-page__traits__family-life\n",
      "breed-page__traits__physical\n",
      "breed-page__traits__social\n",
      "breed-page__traits__personality\n",
      "{'Affectionate With Family': 3, 'Good With Young Children': 5, 'Good With Other Dogs': 5, 'Shedding Level': 3, 'Coat Grooming Frequency': 1, 'Drooling Level': 1, 'Coat Type': 0, 'Coat Length': 0, 'Openness To Strangers': 5, 'Playfulness Level': 3, 'Watchdog/Protective Nature': 1, 'Adaptability Level': 5, 'Trainability Level': 1, 'Energy Level': 4, 'Barking Level': 3, 'Mental Stimulation Needs': 5}\n"
     ]
    },
    {
     "name": "stderr",
     "output_type": "stream",
     "text": [
      "\r",
      "scraping Breeds:  26%|████████████████▋                                               | 26/100 [14:26<21:04, 17.08s/it]"
     ]
    },
    {
     "name": "stdout",
     "output_type": "stream",
     "text": [
      "breed_attributes {'akc_breed_popularity': '  36', 'min_height': 15.0, 'max_height': 15.0, 'min_weight': 40.0, 'max_weight': 65.0, 'min_expectancy': 12.0, 'max_expectancy': 13.0, 'group': 'Hound Group'}\n",
      "care_dict {}\n",
      "breed-page__traits__family-life\n",
      "breed-page__traits__physical\n",
      "breed-page__traits__social\n",
      "breed-page__traits__personality\n",
      "{'Affectionate With Family': 3, 'Good With Young Children': 5, 'Good With Other Dogs': 5, 'Shedding Level': 2, 'Coat Grooming Frequency': 3, 'Drooling Level': 4, 'Coat Type': 0, 'Coat Length': 0, 'Openness To Strangers': 3, 'Playfulness Level': 3, 'Watchdog/Protective Nature': 3, 'Adaptability Level': 3, 'Trainability Level': 3, 'Energy Level': 2, 'Barking Level': 4, 'Mental Stimulation Needs': 3}\n"
     ]
    },
    {
     "name": "stderr",
     "output_type": "stream",
     "text": [
      "\r",
      "scraping Breeds:  27%|█████████████████▎                                              | 27/100 [14:40<19:43, 16.21s/it]"
     ]
    },
    {
     "name": "stdout",
     "output_type": "stream",
     "text": [
      "breed_attributes {'akc_breed_popularity': '', 'min_height': 17.0, 'max_height': 20.5, 'min_weight': 37.0, 'max_weight': 66.0, 'min_expectancy': 12.0, 'max_expectancy': 15.0, 'group': 'Foundation Stock Service'}\n",
      "care_dict {}\n",
      "breed-page__traits__family-life\n",
      "breed-page__traits__physical\n",
      "breed-page__traits__social\n",
      "breed-page__traits__personality\n",
      "{'Affectionate With Family': 3, 'Good With Young Children': 3, 'Good With Other Dogs': 3, 'Shedding Level': 3, 'Coat Grooming Frequency': 2, 'Drooling Level': 2, 'Coat Type': 0, 'Coat Length': 0, 'Openness To Strangers': 3, 'Playfulness Level': 3, 'Watchdog/Protective Nature': 3, 'Adaptability Level': 3, 'Trainability Level': 4, 'Energy Level': 4, 'Barking Level': 2, 'Mental Stimulation Needs': 4}\n"
     ]
    },
    {
     "name": "stderr",
     "output_type": "stream",
     "text": [
      "\r",
      "scraping Breeds:  28%|█████████████████▉                                              | 28/100 [14:54<18:33, 15.47s/it]"
     ]
    },
    {
     "name": "stdout",
     "output_type": "stream",
     "text": [
      "breed_attributes {'akc_breed_popularity': '  8', 'min_height': 13.0, 'max_height': 15.0, 'min_weight': 13.0, 'max_weight': 30.0, 'min_expectancy': 10.0, 'max_expectancy': 15.0, 'group': 'Hound Group'}\n",
      "care_dict {}\n",
      "breed-page__traits__family-life\n",
      "breed-page__traits__physical\n",
      "breed-page__traits__social\n",
      "breed-page__traits__personality\n",
      "{'Affectionate With Family': 3, 'Good With Young Children': 5, 'Good With Other Dogs': 5, 'Shedding Level': 3, 'Coat Grooming Frequency': 2, 'Drooling Level': 1, 'Coat Type': 0, 'Coat Length': 0, 'Openness To Strangers': 3, 'Playfulness Level': 4, 'Watchdog/Protective Nature': 2, 'Adaptability Level': 4, 'Trainability Level': 3, 'Energy Level': 4, 'Barking Level': 4, 'Mental Stimulation Needs': 4}\n"
     ]
    },
    {
     "name": "stderr",
     "output_type": "stream",
     "text": [
      "\r",
      "scraping Breeds:  29%|██████████████████▌                                             | 29/100 [15:08<17:59, 15.21s/it]"
     ]
    },
    {
     "name": "stdout",
     "output_type": "stream",
     "text": [
      "breed_attributes {'akc_breed_popularity': '  124', 'min_height': 20.0, 'max_height': 22.0, 'min_weight': 45.0, 'max_weight': 55.0, 'min_expectancy': 12.0, 'max_expectancy': 14.0, 'group': 'Herding Group'}\n",
      "care_dict {}\n",
      "breed-page__traits__family-life\n",
      "breed-page__traits__physical\n",
      "breed-page__traits__social\n",
      "breed-page__traits__personality\n",
      "{'Affectionate With Family': 4, 'Good With Young Children': 5, 'Good With Other Dogs': 5, 'Shedding Level': 3, 'Coat Grooming Frequency': 4, 'Drooling Level': 1, 'Coat Type': 0, 'Coat Length': 0, 'Openness To Strangers': 4, 'Playfulness Level': 4, 'Watchdog/Protective Nature': 3, 'Adaptability Level': 4, 'Trainability Level': 3, 'Energy Level': 4, 'Barking Level': 5, 'Mental Stimulation Needs': 3}\n"
     ]
    },
    {
     "name": "stderr",
     "output_type": "stream",
     "text": [
      "\r",
      "scraping Breeds:  30%|███████████████████▏                                            | 30/100 [15:27<18:47, 16.11s/it]"
     ]
    },
    {
     "name": "stdout",
     "output_type": "stream",
     "text": [
      "breed_attributes {'akc_breed_popularity': '  111', 'min_height': 24.0, 'max_height': 27.5, 'min_weight': 70.0, 'max_weight': 110.0, 'min_expectancy': 10.0, 'max_expectancy': 12.0, 'group': 'Herding Group'}\n",
      "care_dict {}\n",
      "breed-page__traits__family-life\n",
      "breed-page__traits__physical\n",
      "breed-page__traits__social\n",
      "breed-page__traits__personality\n",
      "{'Affectionate With Family': 3, 'Good With Young Children': 3, 'Good With Other Dogs': 3, 'Shedding Level': 4, 'Coat Grooming Frequency': 3, 'Drooling Level': 1, 'Coat Type': 0, 'Coat Length': 0, 'Openness To Strangers': 2, 'Playfulness Level': 3, 'Watchdog/Protective Nature': 4, 'Adaptability Level': 3, 'Trainability Level': 3, 'Energy Level': 5, 'Barking Level': 3, 'Mental Stimulation Needs': 3}\n"
     ]
    },
    {
     "name": "stderr",
     "output_type": "stream",
     "text": [
      "\r",
      "scraping Breeds:  31%|███████████████████▊                                            | 31/100 [15:47<19:50, 17.25s/it]"
     ]
    },
    {
     "name": "stdout",
     "output_type": "stream",
     "text": [
      "breed_attributes {'akc_breed_popularity': '  152', 'min_height': 15.0, 'max_height': 17.5, 'min_weight': 17.0, 'max_weight': 23.0, 'min_expectancy': 11.0, 'max_expectancy': 16.0, 'group': 'Terrier Group'}\n",
      "care_dict {}\n",
      "breed-page__traits__family-life\n",
      "breed-page__traits__physical\n",
      "breed-page__traits__social\n",
      "breed-page__traits__personality\n",
      "{'Affectionate With Family': 3, 'Good With Young Children': 3, 'Good With Other Dogs': 3, 'Shedding Level': 1, 'Coat Grooming Frequency': 3, 'Drooling Level': 1, 'Coat Type': 0, 'Coat Length': 0, 'Openness To Strangers': 3, 'Playfulness Level': 3, 'Watchdog/Protective Nature': 4, 'Adaptability Level': 3, 'Trainability Level': 3, 'Energy Level': 4, 'Barking Level': 3, 'Mental Stimulation Needs': 3}\n"
     ]
    },
    {
     "name": "stderr",
     "output_type": "stream",
     "text": [
      "\r",
      "scraping Breeds:  32%|████████████████████▍                                           | 32/100 [16:02<18:54, 16.68s/it]"
     ]
    },
    {
     "name": "stdout",
     "output_type": "stream",
     "text": [
      "breed_attributes {'akc_breed_popularity': '  195', 'min_height': 22.0, 'max_height': 26.0, 'min_weight': 55.0, 'max_weight': 65.0, 'min_expectancy': 10.0, 'max_expectancy': 12.0, 'group': 'Herding Group'}\n",
      "care_dict {}\n",
      "breed-page__traits__family-life\n",
      "breed-page__traits__physical\n",
      "breed-page__traits__social\n",
      "breed-page__traits__personality\n",
      "{'Affectionate With Family': 3, 'Good With Young Children': 3, 'Good With Other Dogs': 3, 'Shedding Level': 3, 'Coat Grooming Frequency': 2, 'Drooling Level': 1, 'Coat Type': 0, 'Coat Length': 0, 'Openness To Strangers': 3, 'Playfulness Level': 3, 'Watchdog/Protective Nature': 4, 'Adaptability Level': 3, 'Trainability Level': 5, 'Energy Level': 4, 'Barking Level': 3, 'Mental Stimulation Needs': 4}\n"
     ]
    },
    {
     "name": "stderr",
     "output_type": "stream",
     "text": [
      "\r",
      "scraping Breeds:  33%|█████████████████████                                           | 33/100 [16:16<17:47, 15.93s/it]"
     ]
    },
    {
     "name": "stdout",
     "output_type": "stream",
     "text": [
      "breed_attributes {'akc_breed_popularity': '  32', 'min_height': 22.0, 'max_height': 26.0, 'min_weight': 40.0, 'max_weight': 80.0, 'min_expectancy': 14.0, 'max_expectancy': 16.0, 'group': 'Herding Group'}\n",
      "care_dict {}\n",
      "breed-page__traits__family-life\n",
      "breed-page__traits__physical\n",
      "breed-page__traits__social\n",
      "breed-page__traits__personality\n",
      "{'Affectionate With Family': 3, 'Good With Young Children': 3, 'Good With Other Dogs': 3, 'Shedding Level': 3, 'Coat Grooming Frequency': 2, 'Drooling Level': 1, 'Coat Type': 0, 'Coat Length': 0, 'Openness To Strangers': 3, 'Playfulness Level': 3, 'Watchdog/Protective Nature': 4, 'Adaptability Level': 3, 'Trainability Level': 5, 'Energy Level': 4, 'Barking Level': 3, 'Mental Stimulation Needs': 4}\n"
     ]
    },
    {
     "name": "stderr",
     "output_type": "stream",
     "text": [
      "\r",
      "scraping Breeds:  34%|█████████████████████▊                                          | 34/100 [16:33<17:57, 16.33s/it]"
     ]
    },
    {
     "name": "stdout",
     "output_type": "stream",
     "text": [
      "breed_attributes {'akc_breed_popularity': '  125', 'min_height': 22.0, 'max_height': 26.0, 'min_weight': 45.0, 'max_weight': 75.0, 'min_expectancy': 12.0, 'max_expectancy': 14.0, 'group': 'Herding Group'}\n",
      "care_dict {}\n",
      "breed-page__traits__family-life\n",
      "breed-page__traits__physical\n",
      "breed-page__traits__social\n",
      "breed-page__traits__personality\n",
      "{'Affectionate With Family': 3, 'Good With Young Children': 3, 'Good With Other Dogs': 3, 'Shedding Level': 3, 'Coat Grooming Frequency': 2, 'Drooling Level': 1, 'Coat Type': 0, 'Coat Length': 0, 'Openness To Strangers': 3, 'Playfulness Level': 3, 'Watchdog/Protective Nature': 4, 'Adaptability Level': 3, 'Trainability Level': 5, 'Energy Level': 4, 'Barking Level': 3, 'Mental Stimulation Needs': 4}\n"
     ]
    },
    {
     "name": "stderr",
     "output_type": "stream",
     "text": [
      "\r",
      "scraping Breeds:  35%|██████████████████████▍                                         | 35/100 [16:48<17:03, 15.74s/it]"
     ]
    },
    {
     "name": "stdout",
     "output_type": "stream",
     "text": [
      "breed_attributes {'akc_breed_popularity': '  104', 'min_height': 22.0, 'max_height': 26.0, 'min_weight': 45.0, 'max_weight': 75.0, 'min_expectancy': 12.0, 'max_expectancy': 14.0, 'group': 'Herding Group'}\n",
      "care_dict {}\n",
      "breed-page__traits__family-life\n",
      "breed-page__traits__physical\n",
      "breed-page__traits__social\n",
      "breed-page__traits__personality\n",
      "{'Affectionate With Family': 3, 'Good With Young Children': 3, 'Good With Other Dogs': 3, 'Shedding Level': 3, 'Coat Grooming Frequency': 2, 'Drooling Level': 1, 'Coat Type': 0, 'Coat Length': 0, 'Openness To Strangers': 3, 'Playfulness Level': 3, 'Watchdog/Protective Nature': 4, 'Adaptability Level': 3, 'Trainability Level': 5, 'Energy Level': 4, 'Barking Level': 3, 'Mental Stimulation Needs': 4}\n"
     ]
    }
   ],
   "source": [
    "breed_dict = get_data()"
   ]
  },
  {
   "cell_type": "code",
   "execution_count": null,
   "id": "4d1ba6aa",
   "metadata": {},
   "outputs": [],
   "source": [
    "breed_df = pd.DataFrame.from_dict(breed_dict, orient='index')"
   ]
  },
  {
   "cell_type": "code",
   "execution_count": null,
   "id": "54500fc8",
   "metadata": {
    "scrolled": true
   },
   "outputs": [],
   "source": [
    "breed_df"
   ]
  },
  {
   "cell_type": "code",
   "execution_count": null,
   "id": "c064001f",
   "metadata": {},
   "outputs": [],
   "source": [
    "excel_file_path = 'to_excel.xlsx'"
   ]
  },
  {
   "cell_type": "code",
   "execution_count": null,
   "id": "4d4c5bb4",
   "metadata": {},
   "outputs": [],
   "source": [
    "breed_df.to_excel(excel_file_path, index=False)"
   ]
  },
  {
   "cell_type": "code",
   "execution_count": null,
   "id": "076132af",
   "metadata": {},
   "outputs": [],
   "source": []
  }
 ],
 "metadata": {
  "kernelspec": {
   "display_name": "Python 3 (ipykernel)",
   "language": "python",
   "name": "python3"
  },
  "language_info": {
   "codemirror_mode": {
    "name": "ipython",
    "version": 3
   },
   "file_extension": ".py",
   "mimetype": "text/x-python",
   "name": "python",
   "nbconvert_exporter": "python",
   "pygments_lexer": "ipython3",
   "version": "3.9.7"
  }
 },
 "nbformat": 4,
 "nbformat_minor": 5
}
