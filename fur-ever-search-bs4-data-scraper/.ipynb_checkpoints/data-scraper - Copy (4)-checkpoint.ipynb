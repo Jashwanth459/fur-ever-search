{
 "cells": [
  {
   "cell_type": "code",
   "execution_count": 1,
   "id": "6b00052b",
   "metadata": {},
   "outputs": [],
   "source": [
    "import re\n",
    "import requests\n",
    "import os\n",
    "from datetime import datetime\n",
    "\n",
    "from bs4 import BeautifulSoup, Comment\n",
    "from bs4.element import Tag\n",
    "\n",
    "import pandas as pd\n",
    "from tqdm import tqdm"
   ]
  },
  {
   "cell_type": "code",
   "execution_count": 2,
   "id": "c1e5065d",
   "metadata": {},
   "outputs": [],
   "source": [
    "def get_description(breed_soup):\n",
    "#     print('breed_soup', breed_soup);\n",
    "    try:\n",
    "        description = breed_soup.find(\n",
    "                'p', class_='breed-page__about__read-more__text'\n",
    "        ).get_text().strip()\n",
    "    except:\n",
    "        description = ''\n",
    "        \n",
    "#     print('description', description)\n",
    "    \n",
    "    # Removing weird characters\n",
    "    # Probably not exhaustive\n",
    "    description = description.replace(\n",
    "        '\\n', '').replace('\\u200b', '').replace('\\xa0', ' ')\n",
    "    \n",
    "#     print('description', description)\n",
    "    return description"
   ]
  },
  {
   "cell_type": "code",
   "execution_count": 3,
   "id": "707ac67c",
   "metadata": {},
   "outputs": [],
   "source": [
    "def get_temperament(breed_soup):\n",
    "    temperment_class = 'breed-page__intro__temperment'\n",
    "    try:\n",
    "        return breed_soup.find(\n",
    "            'p', class_=temperment_class\n",
    "        ).get_text().replace(' / ', ',')\n",
    "    except:\n",
    "        return ''"
   ]
  },
  {
   "cell_type": "code",
   "execution_count": 4,
   "id": "467cd8ea",
   "metadata": {},
   "outputs": [],
   "source": [
    "def general_regex(text, var, mul=1):\n",
    "    reg = re.compile('(\\d+\\.?\\d*)')\n",
    "    results = reg.findall(text)\n",
    "    numbers = [float(value) * mul for value in results]\n",
    "    if len(numbers) == 1:\n",
    "        numbers = numbers * 2\n",
    "    elif len(numbers) == 0:\n",
    "        numbers = [0, 0]\n",
    "    return {\n",
    "        'min_{}'.format(var): min(numbers),\n",
    "        'max_{}'.format(var): max(numbers)\n",
    "    }"
   ]
  },
  {
   "cell_type": "code",
   "execution_count": 5,
   "id": "6de910ff",
   "metadata": {},
   "outputs": [],
   "source": [
    "# Define scraping functions for each attribute\n",
    "def get_popularity(attribute):\n",
    "    return attribute.replace('Ranks', '').split('of')[0].strip().split(':')[1]\n",
    "\n",
    "def get_height(attribute):\n",
    "    return general_regex(attribute, 'height')\n",
    "\n",
    "def get_weight(attribute):\n",
    "    return general_regex(attribute, 'weight') \n",
    "\n",
    "def get_expectancy(attribute):\n",
    "    return general_regex(attribute, 'expectancy')\n",
    "\n",
    "def get_group(attribute):\n",
    "    return attribute.split(':')[1].strip()\n",
    "\n",
    "# Create a dictionary mapping attribute names to their respective scraping functions\n",
    "attr_function = {\n",
    "    'akc_breed_popularity': get_popularity,\n",
    "    'height': get_height,\n",
    "    'weight': get_weight,\n",
    "    'life_expectancy': get_expectancy,\n",
    "    'group': get_group\n",
    "}\n",
    "\n",
    "# Function to extract attributes from a comment\n",
    "def get_attributes_from_comment(comment):\n",
    "    attributes_data = {}\n",
    "    \n",
    "    comment_content = BeautifulSoup(comment, 'html.parser')\n",
    "    \n",
    "    data_objects = comment_content.find_all('dataobject', type='document')\n",
    "    \n",
    "    for data_object in data_objects:\n",
    "        attributes = data_object.find_all('attribute')\n",
    "        \n",
    "        for attribute in attributes:\n",
    "            name = attribute.get('name')\n",
    "            value = attribute.get_text(strip=True)\n",
    "            \n",
    "            # Check if the attribute name is in the attr_function dictionary\n",
    "            if name in attr_function:\n",
    "                scraping_function = attr_function[name]\n",
    "                if(name in ['height', 'weight', 'life_expectancy']):\n",
    "                    attr_dict = scraping_function(value)\n",
    "                    for key in attr_dict.keys():\n",
    "                        attributes_data[key] = attr_dict[key]\n",
    "                    \n",
    "                else:\n",
    "                    attributes_data[name] = scraping_function(value)\n",
    "    \n",
    "    return attributes_data"
   ]
  },
  {
   "cell_type": "code",
   "execution_count": 6,
   "id": "06b784d1",
   "metadata": {},
   "outputs": [],
   "source": [
    "breed_attributes = []\n",
    "\n",
    "def get_main_attributes(breed_soup):\n",
    "    # Find all comments in the HTML\n",
    "    comments = breed_soup.find_all(string=lambda text: isinstance(text, Comment))\n",
    "\n",
    "    # Iterate through comments\n",
    "    for comment in comments:\n",
    "        comment_content = BeautifulSoup(comment, 'html.parser')\n",
    "\n",
    "        if comment_content.find('pagemap'):\n",
    "            breed_attributes = get_attributes_from_comment(comment)\n",
    "    \n",
    "    print('breed_attributes', breed_attributes)\n",
    "    return breed_attributes"
   ]
  },
  {
   "cell_type": "code",
   "execution_count": 7,
   "id": "8de5398d",
   "metadata": {},
   "outputs": [],
   "source": [
    "def get_care_info(breed_soup):\n",
    "    titles = breed_soup.find_all(\n",
    "        'h4', class_='bar-graph__title'\n",
    "    )\n",
    "    \n",
    "    values = breed_soup.find_all(\n",
    "        'div', class_='bar-graph__section'\n",
    "    )\n",
    "    \n",
    "    categories = breed_soup.find_all(\n",
    "        'div', class_='bar-graph__text'\n",
    "    )\n",
    "    \n",
    "    care_dict = {}\n",
    "    \n",
    "    for (title, value, category) in zip (titles, values, categories):\n",
    "        t = title.get_text().lower().replace(' ', '_')\n",
    "        t = t[t.find('/') + 1:]\n",
    "        care_dict[t + '_value'] = float(\n",
    "            value['style'].split()[1].split('%')[0]\n",
    "        ) / 100\n",
    "        care_dict[t + '_category'] = category.get_text()\n",
    "        \n",
    "    print('care_dict', care_dict)\n",
    "    \n",
    "    return care_dict"
   ]
  },
  {
   "cell_type": "code",
   "execution_count": 8,
   "id": "d4d2a885",
   "metadata": {},
   "outputs": [],
   "source": [
    "# Working\n",
    "def get_breed_characteristics(breed_soup):\n",
    "    breed_characteristics = {}\n",
    "    characteristic_classes = [tab_element.getText() for tab_element in breed_soup.find_all('li', class_='tabs__single-tab')]\n",
    "    for characteristic_class in characteristic_classes:\n",
    "        if('Traits' not in characteristic_class):\n",
    "            characteristic_class_name = f'breed-page__traits__{characteristic_class.lower().replace(\" \", \"-\")}'\n",
    "            print(characteristic_class_name)\n",
    "            characteristics_div = breed_soup.find('div', id=characteristic_class_name)\n",
    "            breed_traits = characteristics_div.find_all('div', class_='breed-trait-group__trait')\n",
    "            breed_group_characteristics = {}\n",
    "            for breed_trait in breed_traits:\n",
    "                trait = breed_trait.find('h4', class_='accordion__header__text').getText()\n",
    "                print('trait - jashp', trait)\n",
    "                if trait in ['Coat Type', 'Coat Length']:\n",
    "                    coatParentDivs = breed_trait.find_all(class_='breed-trait-score__choice--selected')\n",
    "                    coatNames = []\n",
    "                    for coatParentDiv in coatParentDivs:\n",
    "                        span_text = coatParentDiv.find('span').text\n",
    "                        coatNames.append(span_text)\n",
    "                    trait_info = \",\".join(coatNames)\n",
    "                else:\n",
    "                    trait_info = len(breed_trait.find_all('div', class_='breed-trait-score__score-unit breed-trait-score__score-unit--filled'))\n",
    "                breed_group_characteristics[trait] = trait_info\n",
    "                breed_characteristics[trait] = trait_info\n",
    "    print(breed_characteristics)\n",
    "    return breed_characteristics"
   ]
  },
  {
   "cell_type": "code",
   "execution_count": 9,
   "id": "d9356f8a",
   "metadata": {},
   "outputs": [],
   "source": [
    "from selenium import webdriver\n",
    "from selenium.webdriver.common.by import By\n",
    "from selenium.webdriver.support.ui import WebDriverWait\n",
    "from selenium.webdriver.support import expected_conditions as EC\n",
    "from bs4 import BeautifulSoup\n",
    "\n",
    "class Breed:\n",
    "    def __init__(self, breed_url, breed_name):\n",
    "        self.url = breed_url\n",
    "        self.name = breed_name\n",
    "        \n",
    "        # Set up a headless Chrome browser\n",
    "        options = webdriver.ChromeOptions()\n",
    "        options.add_argument('--headless')  # Run in headless mode (no GUI)\n",
    "        driver = webdriver.Chrome(options=options)\n",
    "\n",
    "        # Load the web page\n",
    "        driver.get(breed_url)\n",
    "\n",
    "        # Get the page source after content has loaded\n",
    "        page_source = driver.page_source\n",
    "\n",
    "        # Create a BeautifulSoup object from the page source\n",
    "        breed_soup = BeautifulSoup(page_source, 'html.parser')\n",
    "\n",
    "        # Scrape content as needed\n",
    "        self.breed_info = {}\n",
    "        self.breed_info['breed'] = self.name\n",
    "        self.breed_info['description'] = get_description(breed_soup)\n",
    "        self.breed_info['temperament'] = get_temperament(breed_soup)\n",
    "        self.breed_info.update(get_main_attributes(breed_soup))\n",
    "        self.breed_info.update(get_care_info(breed_soup))\n",
    "        self.breed_info.update(get_breed_characteristics(breed_soup))\n",
    "\n",
    "        # Close the browser\n",
    "        driver.quit()\n",
    "\n",
    "    def get_breed_info(self):\n",
    "        return self.breed_info\n"
   ]
  },
  {
   "cell_type": "code",
   "execution_count": 10,
   "id": "74fd5c08",
   "metadata": {},
   "outputs": [],
   "source": [
    "import requests\n",
    "from bs4 import BeautifulSoup\n",
    "from bs4 import Tag\n",
    "from tqdm import tqdm  # Import tqdm for the progress bar\n",
    "\n",
    "def get_data():\n",
    "    page = requests.get('https://www.akc.org/dog-breeds/')\n",
    "    soup = BeautifulSoup(page.content, 'html.parser')\n",
    "    \n",
    "    breed_select = soup.find('select', id='breed-search')\n",
    "\n",
    "    breeds = []\n",
    "    \n",
    "    for tag in breed_select.children:\n",
    "        if isinstance(tag, Tag):\n",
    "            if 'value' in tag.attrs and tag['value']:\n",
    "                breeds.append(tag)\n",
    "\n",
    "    print(len(breeds))\n",
    "                \n",
    "    breed_dict = {}\n",
    "    \n",
    "    # Use tqdm to create a progress bar\n",
    "    for breed in tqdm(breeds[150:200],desc='scraping Breeds'):\n",
    "        breed_name = breed.get_text()\n",
    "        breed_url = breed['value']\n",
    "        breed_info = Breed(breed_url, breed_name).get_breed_info()\n",
    "        breed_dict[breed_name] = breed_info\n",
    "    \n",
    "#     print('breed_dict', breed_dict)\n",
    "    \n",
    "    return breed_dict\n",
    "\n",
    "# Define the Breed class and its methods here if not already defined\n",
    "\n",
    "# Call get_data() to start the scraping process"
   ]
  },
  {
   "cell_type": "code",
   "execution_count": null,
   "id": "00757031",
   "metadata": {},
   "outputs": [
    {
     "name": "stdout",
     "output_type": "stream",
     "text": [
      "288\n"
     ]
    },
    {
     "name": "stderr",
     "output_type": "stream",
     "text": [
      "\r",
      "scraping Breeds:   0%|                                                                         | 0/100 [00:00<?, ?it/s]"
     ]
    },
    {
     "name": "stdout",
     "output_type": "stream",
     "text": [
      "breed_attributes {'akc_breed_popularity': '  148', 'min_height': 9.0, 'max_height': 11.5, 'min_weight': 7.0, 'max_weight': 10.0, 'min_expectancy': 12.0, 'max_expectancy': 15.0, 'group': 'Toy Group'}\n",
      "care_dict {}\n",
      "breed-page__traits__family-life\n",
      "trait - jashp Affectionate With Family\n",
      "trait - jashp Good With Young Children\n",
      "trait - jashp Good With Other Dogs\n",
      "breed-page__traits__physical\n",
      "trait - jashp Shedding Level\n",
      "trait - jashp Coat Grooming Frequency\n",
      "trait - jashp Drooling Level\n",
      "trait - jashp Coat Type\n",
      "trait - jashp Coat Length\n",
      "breed-page__traits__social\n",
      "trait - jashp Openness To Strangers\n",
      "trait - jashp Playfulness Level\n",
      "trait - jashp Watchdog/Protective Nature\n",
      "trait - jashp Adaptability Level\n",
      "breed-page__traits__personality\n",
      "trait - jashp Trainability Level\n",
      "trait - jashp Energy Level\n",
      "trait - jashp Barking Level\n",
      "trait - jashp Mental Stimulation Needs\n",
      "{'Affectionate With Family': 3, 'Good With Young Children': 3, 'Good With Other Dogs': 3, 'Shedding Level': 3, 'Coat Grooming Frequency': 3, 'Drooling Level': 1, 'Coat Type': 'Wiry', 'Coat Length': 'Short,Medium', 'Openness To Strangers': 5, 'Playfulness Level': 3, 'Watchdog/Protective Nature': 3, 'Adaptability Level': 4, 'Trainability Level': 3, 'Energy Level': 3, 'Barking Level': 3, 'Mental Stimulation Needs': 3}\n"
     ]
    },
    {
     "name": "stderr",
     "output_type": "stream",
     "text": [
      "\r",
      "scraping Breeds:   1%|▋                                                                | 1/100 [00:11<18:34, 11.26s/it]"
     ]
    },
    {
     "name": "stdout",
     "output_type": "stream",
     "text": [
      "breed_attributes {'akc_breed_popularity': '  117', 'min_height': 25.0, 'max_height': 27.0, 'min_weight': 50.0, 'max_weight': 60.0, 'min_expectancy': 12.0, 'max_expectancy': 18.0, 'group': 'Hound Group'}\n",
      "care_dict {}\n",
      "breed-page__traits__family-life\n",
      "trait - jashp Affectionate With Family\n",
      "trait - jashp Good With Young Children\n",
      "trait - jashp Good With Other Dogs\n",
      "breed-page__traits__physical\n",
      "trait - jashp Shedding Level\n",
      "trait - jashp Coat Grooming Frequency\n",
      "trait - jashp Drooling Level\n",
      "trait - jashp Coat Type\n",
      "trait - jashp Coat Length\n",
      "breed-page__traits__social\n",
      "trait - jashp Openness To Strangers\n",
      "trait - jashp Playfulness Level\n",
      "trait - jashp Watchdog/Protective Nature\n",
      "trait - jashp Adaptability Level\n",
      "breed-page__traits__personality\n",
      "trait - jashp Trainability Level\n",
      "trait - jashp Energy Level\n",
      "trait - jashp Barking Level\n",
      "trait - jashp Mental Stimulation Needs\n",
      "{'Affectionate With Family': 3, 'Good With Young Children': 3, 'Good With Other Dogs': 3, 'Shedding Level': 1, 'Coat Grooming Frequency': 4, 'Drooling Level': 1, 'Coat Type': 'Silky', 'Coat Length': 'Long', 'Openness To Strangers': 3, 'Playfulness Level': 3, 'Watchdog/Protective Nature': 3, 'Adaptability Level': 3, 'Trainability Level': 1, 'Energy Level': 4, 'Barking Level': 3, 'Mental Stimulation Needs': 3}\n"
     ]
    },
    {
     "name": "stderr",
     "output_type": "stream",
     "text": [
      "\r",
      "scraping Breeds:   2%|█▎                                                               | 2/100 [00:22<18:18, 11.21s/it]"
     ]
    },
    {
     "name": "stdout",
     "output_type": "stream",
     "text": [
      "breed_attributes {'akc_breed_popularity': '  65', 'min_height': 23.0, 'max_height': 23.0, 'min_weight': 50.0, 'max_weight': 70.0, 'min_expectancy': 11.0, 'max_expectancy': 14.0, 'group': 'Terrier Group'}\n",
      "care_dict {}\n",
      "breed-page__traits__family-life\n",
      "trait - jashp Affectionate With Family\n",
      "trait - jashp Good With Young Children\n",
      "trait - jashp Good With Other Dogs\n",
      "breed-page__traits__physical\n",
      "trait - jashp Shedding Level\n",
      "trait - jashp Coat Grooming Frequency\n",
      "trait - jashp Drooling Level\n",
      "trait - jashp Coat Type\n",
      "trait - jashp Coat Length\n",
      "breed-page__traits__social\n",
      "trait - jashp Openness To Strangers\n",
      "trait - jashp Playfulness Level\n",
      "trait - jashp Watchdog/Protective Nature\n",
      "trait - jashp Adaptability Level\n",
      "breed-page__traits__personality\n",
      "trait - jashp Trainability Level\n",
      "trait - jashp Energy Level\n",
      "trait - jashp Barking Level\n",
      "trait - jashp Mental Stimulation Needs\n",
      "{'Affectionate With Family': 3, 'Good With Young Children': 3, 'Good With Other Dogs': 3, 'Shedding Level': 1, 'Coat Grooming Frequency': 3, 'Drooling Level': 1, 'Coat Type': 'Wiry', 'Coat Length': 'Short,Medium', 'Openness To Strangers': 3, 'Playfulness Level': 3, 'Watchdog/Protective Nature': 5, 'Adaptability Level': 3, 'Trainability Level': 3, 'Energy Level': 3, 'Barking Level': 3, 'Mental Stimulation Needs': 3}\n"
     ]
    },
    {
     "name": "stderr",
     "output_type": "stream",
     "text": [
      "\r",
      "scraping Breeds:   3%|█▉                                                               | 3/100 [00:34<18:42, 11.57s/it]"
     ]
    },
    {
     "name": "stdout",
     "output_type": "stream",
     "text": [
      "breed_attributes {'akc_breed_popularity': '  55', 'min_height': 24.0, 'max_height': 28.0, 'min_weight': 70.0, 'max_weight': 130.0, 'min_expectancy': 10.0, 'max_expectancy': 14.0, 'group': 'Working Group'}\n",
      "care_dict {}\n",
      "breed-page__traits__family-life\n",
      "trait - jashp Affectionate With Family\n",
      "trait - jashp Good With Young Children\n",
      "trait - jashp Good With Other Dogs\n",
      "breed-page__traits__physical\n",
      "trait - jashp Shedding Level\n",
      "trait - jashp Coat Grooming Frequency\n",
      "trait - jashp Drooling Level\n",
      "trait - jashp Coat Type\n",
      "trait - jashp Coat Length\n",
      "breed-page__traits__social\n",
      "trait - jashp Openness To Strangers\n",
      "trait - jashp Playfulness Level\n",
      "trait - jashp Watchdog/Protective Nature\n",
      "trait - jashp Adaptability Level\n",
      "breed-page__traits__personality\n",
      "trait - jashp Trainability Level\n",
      "trait - jashp Energy Level\n",
      "trait - jashp Barking Level\n",
      "trait - jashp Mental Stimulation Needs\n",
      "{'Affectionate With Family': 3, 'Good With Young Children': 3, 'Good With Other Dogs': 1, 'Shedding Level': 3, 'Coat Grooming Frequency': 3, 'Drooling Level': 1, 'Coat Type': 'Double', 'Coat Length': 'Medium', 'Openness To Strangers': 2, 'Playfulness Level': 3, 'Watchdog/Protective Nature': 5, 'Adaptability Level': 3, 'Trainability Level': 3, 'Energy Level': 4, 'Barking Level': 2, 'Mental Stimulation Needs': 3}\n"
     ]
    },
    {
     "name": "stderr",
     "output_type": "stream",
     "text": [
      "\r",
      "scraping Breeds:   4%|██▌                                                              | 4/100 [00:47<19:40, 12.29s/it]"
     ]
    },
    {
     "name": "stdout",
     "output_type": "stream",
     "text": [
      "breed_attributes {'akc_breed_popularity': '', 'min_height': 12.0, 'max_height': 17.0, 'min_weight': 6.0, 'max_weight': 25.0, 'min_expectancy': 13.0, 'max_expectancy': 16.0, 'group': 'Foundation Stock Service'}\n",
      "care_dict {}\n",
      "breed-page__traits__family-life\n",
      "trait - jashp Affectionate With Family\n",
      "trait - jashp Good With Young Children\n",
      "trait - jashp Good With Other Dogs\n",
      "breed-page__traits__physical\n",
      "trait - jashp Shedding Level\n",
      "trait - jashp Coat Grooming Frequency\n",
      "trait - jashp Drooling Level\n",
      "trait - jashp Coat Type\n",
      "trait - jashp Coat Length\n",
      "breed-page__traits__social\n",
      "trait - jashp Openness To Strangers\n",
      "trait - jashp Playfulness Level\n",
      "trait - jashp Watchdog/Protective Nature\n",
      "trait - jashp Adaptability Level\n",
      "breed-page__traits__personality\n",
      "trait - jashp Trainability Level\n",
      "trait - jashp Energy Level\n",
      "trait - jashp Barking Level\n",
      "trait - jashp Mental Stimulation Needs\n",
      "{'Affectionate With Family': 3, 'Good With Young Children': 3, 'Good With Other Dogs': 5, 'Shedding Level': 3, 'Coat Grooming Frequency': 3, 'Drooling Level': 1, 'Coat Type': 'Double', 'Coat Length': 'Medium', 'Openness To Strangers': 1, 'Playfulness Level': 3, 'Watchdog/Protective Nature': 3, 'Adaptability Level': 3, 'Trainability Level': 3, 'Energy Level': 3, 'Barking Level': 3, 'Mental Stimulation Needs': 3}\n"
     ]
    },
    {
     "name": "stderr",
     "output_type": "stream",
     "text": [
      "\r",
      "scraping Breeds:   5%|███▎                                                             | 5/100 [01:00<19:51, 12.54s/it]"
     ]
    },
    {
     "name": "stdout",
     "output_type": "stream",
     "text": [
      "breed_attributes {'akc_breed_popularity': '  67', 'min_height': 23.0, 'max_height': 25.0, 'min_weight': 75.0, 'max_weight': 85.0, 'min_expectancy': 10.0, 'max_expectancy': 14.0, 'group': 'Working Group'}\n",
      "care_dict {}\n",
      "breed-page__traits__family-life\n",
      "trait - jashp Affectionate With Family\n",
      "trait - jashp Good With Young Children\n",
      "trait - jashp Good With Other Dogs\n",
      "breed-page__traits__physical\n",
      "trait - jashp Shedding Level\n",
      "trait - jashp Coat Grooming Frequency\n",
      "trait - jashp Drooling Level\n",
      "trait - jashp Coat Type\n",
      "trait - jashp Coat Length\n",
      "breed-page__traits__social\n",
      "trait - jashp Openness To Strangers\n",
      "trait - jashp Playfulness Level\n",
      "trait - jashp Watchdog/Protective Nature\n",
      "trait - jashp Adaptability Level\n",
      "breed-page__traits__personality\n",
      "trait - jashp Trainability Level\n",
      "trait - jashp Energy Level\n",
      "trait - jashp Barking Level\n",
      "trait - jashp Mental Stimulation Needs\n",
      "{'Affectionate With Family': 3, 'Good With Young Children': 3, 'Good With Other Dogs': 3, 'Shedding Level': 3, 'Coat Grooming Frequency': 3, 'Drooling Level': 1, 'Coat Type': 'Double', 'Coat Length': 'Medium', 'Openness To Strangers': 3, 'Playfulness Level': 3, 'Watchdog/Protective Nature': 4, 'Adaptability Level': 3, 'Trainability Level': 5, 'Energy Level': 4, 'Barking Level': 3, 'Mental Stimulation Needs': 3}\n"
     ]
    },
    {
     "name": "stderr",
     "output_type": "stream",
     "text": [
      "\r",
      "scraping Breeds:   6%|███▉                                                             | 6/100 [01:12<19:06, 12.20s/it]"
     ]
    },
    {
     "name": "stdout",
     "output_type": "stream",
     "text": [
      "breed_attributes {'akc_breed_popularity': '', 'min_height': 20.0, 'max_height': 25.0, 'min_weight': 60.0, 'max_weight': 100.0, 'min_expectancy': 10.0, 'max_expectancy': 12.0, 'group': 'Foundation Stock Service'}\n",
      "care_dict {}\n",
      "breed-page__traits__family-life\n",
      "trait - jashp Affectionate With Family\n",
      "trait - jashp Good With Young Children\n",
      "trait - jashp Good With Other Dogs\n",
      "breed-page__traits__physical\n",
      "trait - jashp Shedding Level\n",
      "trait - jashp Coat Grooming Frequency\n",
      "trait - jashp Drooling Level\n",
      "trait - jashp Coat Type\n",
      "trait - jashp Coat Length\n",
      "breed-page__traits__social\n",
      "trait - jashp Openness To Strangers\n",
      "trait - jashp Playfulness Level\n",
      "trait - jashp Watchdog/Protective Nature\n",
      "trait - jashp Adaptability Level\n",
      "breed-page__traits__personality\n",
      "trait - jashp Trainability Level\n",
      "trait - jashp Energy Level\n",
      "trait - jashp Barking Level\n",
      "trait - jashp Mental Stimulation Needs\n",
      "{'Affectionate With Family': 0, 'Good With Young Children': 3, 'Good With Other Dogs': 3, 'Shedding Level': 2, 'Coat Grooming Frequency': 0, 'Drooling Level': 0, 'Coat Type': 'Smooth', 'Coat Length': 'Short', 'Openness To Strangers': 0, 'Playfulness Level': 0, 'Watchdog/Protective Nature': 0, 'Adaptability Level': 0, 'Trainability Level': 4, 'Energy Level': 0, 'Barking Level': 1, 'Mental Stimulation Needs': 0}\n"
     ]
    },
    {
     "name": "stderr",
     "output_type": "stream",
     "text": [
      "\r",
      "scraping Breeds:   7%|████▌                                                            | 7/100 [01:23<18:25, 11.89s/it]"
     ]
    },
    {
     "name": "stdout",
     "output_type": "stream",
     "text": [
      "breed_attributes {'akc_breed_popularity': '  182', 'min_height': 23.0, 'max_height': 26.0, 'min_weight': 45.0, 'max_weight': 65.0, 'min_expectancy': 11.0, 'max_expectancy': 12.0, 'group': 'Hound Group'}\n",
      "care_dict {}\n",
      "breed-page__traits__family-life\n",
      "trait - jashp Affectionate With Family\n",
      "trait - jashp Good With Young Children\n",
      "trait - jashp Good With Other Dogs\n",
      "breed-page__traits__physical\n",
      "trait - jashp Shedding Level\n",
      "trait - jashp Coat Grooming Frequency\n",
      "trait - jashp Drooling Level\n",
      "trait - jashp Coat Type\n",
      "trait - jashp Coat Length\n",
      "breed-page__traits__social\n",
      "trait - jashp Openness To Strangers\n",
      "trait - jashp Playfulness Level\n",
      "trait - jashp Watchdog/Protective Nature\n",
      "trait - jashp Adaptability Level\n",
      "breed-page__traits__personality\n",
      "trait - jashp Trainability Level\n",
      "trait - jashp Energy Level\n",
      "trait - jashp Barking Level\n",
      "trait - jashp Mental Stimulation Needs\n",
      "{'Affectionate With Family': 3, 'Good With Young Children': 3, 'Good With Other Dogs': 5, 'Shedding Level': 2, 'Coat Grooming Frequency': 1, 'Drooling Level': 1, 'Coat Type': 'Smooth', 'Coat Length': 'Short', 'Openness To Strangers': 3, 'Playfulness Level': 3, 'Watchdog/Protective Nature': 3, 'Adaptability Level': 3, 'Trainability Level': 3, 'Energy Level': 4, 'Barking Level': 4, 'Mental Stimulation Needs': 3}\n"
     ]
    },
    {
     "name": "stderr",
     "output_type": "stream",
     "text": [
      "\r",
      "scraping Breeds:   8%|█████▏                                                           | 8/100 [01:35<18:06, 11.81s/it]"
     ]
    },
    {
     "name": "stdout",
     "output_type": "stream",
     "text": [
      "breed_attributes {'akc_breed_popularity': '  123', 'min_height': 9.0, 'max_height': 19.0, 'min_weight': 6.0, 'max_weight': 35.0, 'min_expectancy': 13.0, 'max_expectancy': 15.0, 'group': 'Non-Sporting Group'}\n",
      "care_dict {}\n",
      "breed-page__traits__family-life\n",
      "trait - jashp Affectionate With Family\n",
      "trait - jashp Good With Young Children\n",
      "trait - jashp Good With Other Dogs\n",
      "breed-page__traits__physical\n",
      "trait - jashp Shedding Level\n",
      "trait - jashp Coat Grooming Frequency\n",
      "trait - jashp Drooling Level\n",
      "trait - jashp Coat Type\n",
      "trait - jashp Coat Length\n",
      "breed-page__traits__social\n",
      "trait - jashp Openness To Strangers\n",
      "trait - jashp Playfulness Level\n",
      "trait - jashp Watchdog/Protective Nature\n",
      "trait - jashp Adaptability Level\n",
      "breed-page__traits__personality\n",
      "trait - jashp Trainability Level\n",
      "trait - jashp Energy Level\n",
      "trait - jashp Barking Level\n",
      "trait - jashp Mental Stimulation Needs\n",
      "{'Affectionate With Family': 5, 'Good With Young Children': 5, 'Good With Other Dogs': 3, 'Shedding Level': 3, 'Coat Grooming Frequency': 3, 'Drooling Level': 1, 'Coat Type': 'Double', 'Coat Length': 'Medium', 'Openness To Strangers': 5, 'Playfulness Level': 3, 'Watchdog/Protective Nature': 3, 'Adaptability Level': 4, 'Trainability Level': 4, 'Energy Level': 4, 'Barking Level': 3, 'Mental Stimulation Needs': 3}\n"
     ]
    },
    {
     "name": "stderr",
     "output_type": "stream",
     "text": [
      "\r",
      "scraping Breeds:   9%|█████▊                                                           | 9/100 [01:46<17:38, 11.63s/it]"
     ]
    },
    {
     "name": "stdout",
     "output_type": "stream",
     "text": [
      "breed_attributes {'akc_breed_popularity': '  196', 'min_height': 21.0, 'max_height': 25.0, 'min_weight': 60.0, 'max_weight': 70.0, 'min_expectancy': 11.0, 'max_expectancy': 13.0, 'group': 'Hound Group'}\n",
      "care_dict {}\n",
      "breed-page__traits__family-life\n",
      "trait - jashp Affectionate With Family\n",
      "trait - jashp Good With Young Children\n",
      "trait - jashp Good With Other Dogs\n",
      "breed-page__traits__physical\n",
      "trait - jashp Shedding Level\n",
      "trait - jashp Coat Grooming Frequency\n",
      "trait - jashp Drooling Level\n",
      "trait - jashp Coat Type\n",
      "trait - jashp Coat Length\n",
      "breed-page__traits__social\n",
      "trait - jashp Openness To Strangers\n",
      "trait - jashp Playfulness Level\n",
      "trait - jashp Watchdog/Protective Nature\n",
      "trait - jashp Adaptability Level\n",
      "breed-page__traits__personality\n",
      "trait - jashp Trainability Level\n",
      "trait - jashp Energy Level\n",
      "trait - jashp Barking Level\n",
      "trait - jashp Mental Stimulation Needs\n",
      "{'Affectionate With Family': 3, 'Good With Young Children': 5, 'Good With Other Dogs': 5, 'Shedding Level': 3, 'Coat Grooming Frequency': 1, 'Drooling Level': 1, 'Coat Type': 'Smooth', 'Coat Length': 'Short', 'Openness To Strangers': 3, 'Playfulness Level': 3, 'Watchdog/Protective Nature': 3, 'Adaptability Level': 3, 'Trainability Level': 3, 'Energy Level': 4, 'Barking Level': 5, 'Mental Stimulation Needs': 3}\n"
     ]
    },
    {
     "name": "stderr",
     "output_type": "stream",
     "text": [
      "\r",
      "scraping Breeds:  10%|██████▍                                                         | 10/100 [02:08<22:18, 14.87s/it]"
     ]
    },
    {
     "name": "stdout",
     "output_type": "stream",
     "text": [
      "breed_attributes {'akc_breed_popularity': '  120', 'min_height': 12.0, 'max_height': 16.0, 'min_weight': 12.0, 'max_weight': 28.0, 'min_expectancy': 14.0, 'max_expectancy': 16.0, 'group': 'Terrier Group'}\n",
      "care_dict {}\n",
      "breed-page__traits__family-life\n",
      "trait - jashp Affectionate With Family\n",
      "trait - jashp Good With Young Children\n",
      "trait - jashp Good With Other Dogs\n",
      "breed-page__traits__physical\n",
      "trait - jashp Shedding Level\n",
      "trait - jashp Coat Grooming Frequency\n",
      "trait - jashp Drooling Level\n",
      "trait - jashp Coat Type\n",
      "trait - jashp Coat Length\n",
      "breed-page__traits__social\n",
      "trait - jashp Openness To Strangers\n",
      "trait - jashp Playfulness Level\n",
      "trait - jashp Watchdog/Protective Nature\n",
      "trait - jashp Adaptability Level\n",
      "breed-page__traits__personality\n",
      "trait - jashp Trainability Level\n",
      "trait - jashp Energy Level\n",
      "trait - jashp Barking Level\n",
      "trait - jashp Mental Stimulation Needs\n",
      "{'Affectionate With Family': 5, 'Good With Young Children': 5, 'Good With Other Dogs': 3, 'Shedding Level': 1, 'Coat Grooming Frequency': 1, 'Drooling Level': 1, 'Coat Type': 'Hairless', 'Coat Length': 'Short', 'Openness To Strangers': 3, 'Playfulness Level': 3, 'Watchdog/Protective Nature': 3, 'Adaptability Level': 5, 'Trainability Level': 5, 'Energy Level': 3, 'Barking Level': 3, 'Mental Stimulation Needs': 3}\n"
     ]
    }
   ],
   "source": [
    "breed_dict = get_data()"
   ]
  },
  {
   "cell_type": "code",
   "execution_count": null,
   "id": "4d1ba6aa",
   "metadata": {},
   "outputs": [],
   "source": [
    "breed_df = pd.DataFrame.from_dict(breed_dict, orient='index')"
   ]
  },
  {
   "cell_type": "code",
   "execution_count": null,
   "id": "54500fc8",
   "metadata": {
    "scrolled": true
   },
   "outputs": [],
   "source": [
    "breed_df"
   ]
  },
  {
   "cell_type": "code",
   "execution_count": null,
   "id": "dd26205a",
   "metadata": {},
   "outputs": [],
   "source": [
    "excel_file_path = 'to_excel_3.xlsx'"
   ]
  },
  {
   "cell_type": "code",
   "execution_count": null,
   "id": "bf5489d2",
   "metadata": {},
   "outputs": [],
   "source": [
    "breed_df.to_excel(excel_file_path, index=False)"
   ]
  },
  {
   "cell_type": "code",
   "execution_count": null,
   "id": "d9767a50",
   "metadata": {},
   "outputs": [],
   "source": []
  }
 ],
 "metadata": {
  "kernelspec": {
   "display_name": "Python 3 (ipykernel)",
   "language": "python",
   "name": "python3"
  },
  "language_info": {
   "codemirror_mode": {
    "name": "ipython",
    "version": 3
   },
   "file_extension": ".py",
   "mimetype": "text/x-python",
   "name": "python",
   "nbconvert_exporter": "python",
   "pygments_lexer": "ipython3",
   "version": "3.9.7"
  }
 },
 "nbformat": 4,
 "nbformat_minor": 5
}
